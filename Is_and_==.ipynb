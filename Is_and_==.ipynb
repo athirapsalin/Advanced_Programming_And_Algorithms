{
 "cells": [
  {
   "cell_type": "markdown",
   "id": "cfd7e8fb",
   "metadata": {},
   "source": [
    "# Difference between \"==\" operator and \"is\" keyword"
   ]
  },
  {
   "cell_type": "markdown",
   "id": "d39960eb",
   "metadata": {},
   "source": [
    "In case of Variables"
   ]
  },
  {
   "cell_type": "code",
   "execution_count": 27,
   "id": "ae0e5bcb",
   "metadata": {},
   "outputs": [],
   "source": [
    "a=7\n",
    "b=7\n",
    "c=a"
   ]
  },
  {
   "cell_type": "markdown",
   "id": "32362c01",
   "metadata": {},
   "source": [
    "# \"==\" Operator"
   ]
  },
  {
   "cell_type": "code",
   "execution_count": 28,
   "id": "4eaaede6",
   "metadata": {},
   "outputs": [
    {
     "name": "stdout",
     "output_type": "stream",
     "text": [
      "True\n"
     ]
    }
   ],
   "source": [
    "print(a==b)"
   ]
  },
  {
   "cell_type": "code",
   "execution_count": 29,
   "id": "44441cd0",
   "metadata": {},
   "outputs": [
    {
     "name": "stdout",
     "output_type": "stream",
     "text": [
      "True\n"
     ]
    }
   ],
   "source": [
    "print(a==c)"
   ]
  },
  {
   "cell_type": "code",
   "execution_count": 30,
   "id": "5d910de7",
   "metadata": {},
   "outputs": [
    {
     "name": "stdout",
     "output_type": "stream",
     "text": [
      "140633431785904\n",
      "140633431785904\n",
      "140633431785904\n",
      "True\n",
      "True\n"
     ]
    }
   ],
   "source": [
    "print(id(a))\n",
    "print(id(b))\n",
    "print(id(c))\n",
    "print(id(a)==id(b))\n",
    "print(id(a)==id(c))"
   ]
  },
  {
   "cell_type": "markdown",
   "id": "04872d24",
   "metadata": {},
   "source": [
    "\"==\" Operator is used for equality comparison in case of variables"
   ]
  },
  {
   "cell_type": "markdown",
   "id": "cf2dacb9",
   "metadata": {},
   "source": [
    "# \"is\" Keyword"
   ]
  },
  {
   "cell_type": "code",
   "execution_count": 31,
   "id": "7b7f8187",
   "metadata": {},
   "outputs": [
    {
     "name": "stdout",
     "output_type": "stream",
     "text": [
      "True\n",
      "True\n"
     ]
    }
   ],
   "source": [
    "print(a is b)\n",
    "print(a is c)"
   ]
  },
  {
   "cell_type": "code",
   "execution_count": 32,
   "id": "107de9b0",
   "metadata": {},
   "outputs": [
    {
     "name": "stdout",
     "output_type": "stream",
     "text": [
      "140633431785904\n",
      "140633431785904\n",
      "140633431785904\n",
      "False\n"
     ]
    }
   ],
   "source": [
    "print(id(a))\n",
    "print(id(b))\n",
    "print(id(c))\n",
    "#print(id(a) is id(b))\n",
    "print(id(a) is id(c))"
   ]
  },
  {
   "cell_type": "markdown",
   "id": "5cf1643f",
   "metadata": {},
   "source": [
    "\"is\" Keyword checks for object identity"
   ]
  },
  {
   "cell_type": "markdown",
   "id": "574dfd2b",
   "metadata": {},
   "source": [
    "Variable assignments don't copy values, but point to an object. Integers are immutable: An integer variable points to an object with a fixed value."
   ]
  },
  {
   "cell_type": "markdown",
   "id": "1c0dee27",
   "metadata": {},
   "source": [
    "In case of Lists"
   ]
  },
  {
   "cell_type": "code",
   "execution_count": 33,
   "id": "17903929",
   "metadata": {},
   "outputs": [],
   "source": [
    "L_1=[1,2,3]\n",
    "L_2=[1,2,3]\n",
    "L_3=L_1"
   ]
  },
  {
   "cell_type": "code",
   "execution_count": 34,
   "id": "efb1a207",
   "metadata": {},
   "outputs": [
    {
     "name": "stdout",
     "output_type": "stream",
     "text": [
      "140633364917888\n",
      "140633209336512\n",
      "140633364917888\n"
     ]
    }
   ],
   "source": [
    "print(id(L_1))\n",
    "print(id(L_2))\n",
    "print(id(L_3))"
   ]
  },
  {
   "cell_type": "markdown",
   "id": "1a1fee67",
   "metadata": {},
   "source": [
    "Each object has its own memory space to store the list elements."
   ]
  },
  {
   "cell_type": "code",
   "execution_count": 35,
   "id": "07cce2a1",
   "metadata": {},
   "outputs": [
    {
     "name": "stdout",
     "output_type": "stream",
     "text": [
      "True\n",
      "True\n",
      "False\n",
      "True\n"
     ]
    }
   ],
   "source": [
    "print(L_1==L_2)\n",
    "print(L_3==L_3)\n",
    "print(id(L_1)==id(L_2))\n",
    "print(id(L_3)==id(L_3))\n"
   ]
  },
  {
   "cell_type": "markdown",
   "id": "38a8ef57",
   "metadata": {},
   "source": [
    "\"==\" Operator in case of lists and variables compare equality"
   ]
  },
  {
   "cell_type": "code",
   "execution_count": 37,
   "id": "a51a44d9",
   "metadata": {},
   "outputs": [
    {
     "name": "stdout",
     "output_type": "stream",
     "text": [
      "False\n",
      "True\n",
      "False\n",
      "False\n"
     ]
    }
   ],
   "source": [
    "print(L_1 is L_2)\n",
    "print(L_3 is L_3)\n",
    "print(id(L_1) is id(L_2))\n",
    "print(id(L_3) is id(L_3))"
   ]
  },
  {
   "cell_type": "markdown",
   "id": "0a90ad88",
   "metadata": {},
   "source": [
    "\"is\" keyword determines if two objects refer to the same memory location or point to the same object in memory"
   ]
  },
  {
   "cell_type": "code",
   "execution_count": null,
   "id": "1327867e",
   "metadata": {},
   "outputs": [],
   "source": []
  }
 ],
 "metadata": {
  "kernelspec": {
   "display_name": "Python 3 (ipykernel)",
   "language": "python",
   "name": "python3"
  },
  "language_info": {
   "codemirror_mode": {
    "name": "ipython",
    "version": 3
   },
   "file_extension": ".py",
   "mimetype": "text/x-python",
   "name": "python",
   "nbconvert_exporter": "python",
   "pygments_lexer": "ipython3",
   "version": "3.10.8"
  }
 },
 "nbformat": 4,
 "nbformat_minor": 5
}
